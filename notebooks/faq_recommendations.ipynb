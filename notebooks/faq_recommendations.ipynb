{
 "cells": [
  {
   "cell_type": "markdown",
   "metadata": {},
   "source": [
    "# FAQ recommendations\n",
    "\n",
    "This Jupyter Notebook conducts an evaluation of various approaches to develop an LLM algorithm capable of recommending solutions based on an F.A.Q. database and the conversation context between an agent and a client."
   ]
  },
  {
   "cell_type": "code",
   "execution_count": 2,
   "metadata": {},
   "outputs": [],
   "source": [
    "import pandas as pd\n",
    "import numpy as np\n",
    "import matplotlib.pyplot as plt\n",
    "import os"
   ]
  },
  {
   "cell_type": "markdown",
   "metadata": {},
   "source": [
    "## 1 Handling the data"
   ]
  },
  {
   "cell_type": "markdown",
   "metadata": {},
   "source": [
    "### 1.1 Converting F.A.Q from .txt to .csv file"
   ]
  },
  {
   "cell_type": "code",
   "execution_count": 3,
   "metadata": {},
   "outputs": [],
   "source": [
    "def get_questions_and_answers(faq_path: str):\n",
    "    questions = []\n",
    "    answers = []\n",
    "\n",
    "    with open(faq_path, \"r\") as file:\n",
    "        for line in file.readlines():\n",
    "            if \"Pergunta\" in line:\n",
    "                question = line.lstrip(\"Pergunta: \").rstrip(\"\\n\")\n",
    "                questions.append(question)\n",
    "            elif \"Resposta\" in line:\n",
    "                answer = line.lstrip(\"Resposta: \").rstrip(\"\\n\")\n",
    "                answers.append(answer)\n",
    "    \n",
    "    return (questions, answers)\n",
    "\n",
    "\n",
    "def create_csv(questions: list, answers: list, destination_path: str, file_name: str):\n",
    "    faq_dict = {\n",
    "        \"Question\": questions,\n",
    "        \"Answer\": answers\n",
    "        }\n",
    "    \n",
    "    path = destination_path + file_name + \".csv\"\n",
    "\n",
    "    df = pd.DataFrame(data=faq_dict, dtype=object)\n",
    "    df.to_csv(path_or_buf=path, sep=\";\", index=False)"
   ]
  },
  {
   "cell_type": "code",
   "execution_count": 4,
   "metadata": {},
   "outputs": [],
   "source": [
    "questions, answers = get_questions_and_answers(faq_path=\"../data/faqs/faq_example.txt\")\n",
    "create_csv(questions=questions, answers=answers, destination_path=\"../data/faqs/\", file_name=\"faq_example\")"
   ]
  },
  {
   "cell_type": "markdown",
   "metadata": {},
   "source": [
    "## 2 Testing LLMs techniques"
   ]
  },
  {
   "cell_type": "markdown",
   "metadata": {},
   "source": [
    "### 2.1 Sentence Embeddings pretrained models"
   ]
  },
  {
   "cell_type": "code",
   "execution_count": 5,
   "metadata": {},
   "outputs": [
    {
     "name": "stderr",
     "output_type": "stream",
     "text": [
      "/home/tanabe/faq-recommendations/venv/lib/python3.10/site-packages/tqdm/auto.py:21: TqdmWarning: IProgress not found. Please update jupyter and ipywidgets. See https://ipywidgets.readthedocs.io/en/stable/user_install.html\n",
      "  from .autonotebook import tqdm as notebook_tqdm\n"
     ]
    }
   ],
   "source": [
    "from sentence_transformers import SentenceTransformer, util\n",
    "import spacy\n",
    "import re\n",
    "\n",
    "\n",
    "def get_greatest_similarities(model, dataframe, message):\n",
    "    questions_embeddings = model.encode(dataframe.Question)\n",
    "    message_embed = model.encode(get_clean_text(message))\n",
    "\n",
    "    similarities = util.cos_sim(message_embed, questions_embeddings)[0].tolist()\n",
    "    greatest_similarities_index = pd.Series(similarities).sort_values(ascending=False).index\n",
    "    \n",
    "    return greatest_similarities_index\n",
    "\n",
    "\n",
    "def get_clean_text(text:str):\n",
    "    nlp_model = spacy.load(\"pt_core_news_lg\")\n",
    "\n",
    "    text_tokens = nlp_model(text)\n",
    "\n",
    "    clean_text = []\n",
    "\n",
    "    for token in text_tokens:\n",
    "        if not token.is_stop and not token.is_punct:\n",
    "            clean_text.append(token.text)\n",
    "\n",
    "    clean_text = \" \".join(clean_text)\n",
    "\n",
    "    return re.sub(r'[^a-zA-ZÀ-ÿ\\s]', '', clean_text).lower()"
   ]
  },
  {
   "cell_type": "code",
   "execution_count": 6,
   "metadata": {},
   "outputs": [
    {
     "data": {
      "text/html": [
       "<div>\n",
       "<style scoped>\n",
       "    .dataframe tbody tr th:only-of-type {\n",
       "        vertical-align: middle;\n",
       "    }\n",
       "\n",
       "    .dataframe tbody tr th {\n",
       "        vertical-align: top;\n",
       "    }\n",
       "\n",
       "    .dataframe thead th {\n",
       "        text-align: right;\n",
       "    }\n",
       "</style>\n",
       "<table border=\"1\" class=\"dataframe\">\n",
       "  <thead>\n",
       "    <tr style=\"text-align: right;\">\n",
       "      <th></th>\n",
       "      <th>Question</th>\n",
       "      <th>Answer</th>\n",
       "    </tr>\n",
       "  </thead>\n",
       "  <tbody>\n",
       "    <tr>\n",
       "      <th>0</th>\n",
       "      <td>Quais serviços a empresa de telecomunicações o...</td>\n",
       "      <td>Nossa empresa oferece serviços de telefonia fi...</td>\n",
       "    </tr>\n",
       "    <tr>\n",
       "      <th>1</th>\n",
       "      <td>Como posso contratar os serviços da empresa?</td>\n",
       "      <td>Para contratar nossos serviços, você pode entr...</td>\n",
       "    </tr>\n",
       "    <tr>\n",
       "      <th>2</th>\n",
       "      <td>Quais são os planos disponíveis para a telefon...</td>\n",
       "      <td>Temos diversos planos com diferentes franquias...</td>\n",
       "    </tr>\n",
       "  </tbody>\n",
       "</table>\n",
       "</div>"
      ],
      "text/plain": [
       "                                            Question  \\\n",
       "0  Quais serviços a empresa de telecomunicações o...   \n",
       "1       Como posso contratar os serviços da empresa?   \n",
       "2  Quais são os planos disponíveis para a telefon...   \n",
       "\n",
       "                                              Answer  \n",
       "0  Nossa empresa oferece serviços de telefonia fi...  \n",
       "1  Para contratar nossos serviços, você pode entr...  \n",
       "2  Temos diversos planos com diferentes franquias...  "
      ]
     },
     "execution_count": 6,
     "metadata": {},
     "output_type": "execute_result"
    }
   ],
   "source": [
    "df = pd.read_csv(\"../data/faqs/faq_example.csv\", sep=\";\")\n",
    "df.head(3)"
   ]
  },
  {
   "cell_type": "code",
   "execution_count": 8,
   "metadata": {},
   "outputs": [
    {
     "name": "stdout",
     "output_type": "stream",
     "text": [
      "contratar serviço melhor\n"
     ]
    }
   ],
   "source": [
    "message = \"Como que eu faço para contratar um serviço melhor?\"\n",
    "message = get_clean_text(message)\n",
    "print(message)"
   ]
  },
  {
   "cell_type": "markdown",
   "metadata": {},
   "source": [
    "#### 2.1.1 all-mpnet-base-v2 model"
   ]
  },
  {
   "cell_type": "code",
   "execution_count": 9,
   "metadata": {},
   "outputs": [
    {
     "name": "stderr",
     "output_type": "stream",
     "text": [
      ".gitattributes: 100%|██████████| 1.18k/1.18k [00:00<00:00, 684kB/s]\n",
      "1_Pooling/config.json: 100%|██████████| 190/190 [00:00<00:00, 405kB/s]\n",
      "README.md: 100%|██████████| 10.6k/10.6k [00:00<00:00, 24.3MB/s]\n",
      "config.json: 100%|██████████| 571/571 [00:00<00:00, 1.50MB/s]\n",
      "config_sentence_transformers.json: 100%|██████████| 116/116 [00:00<00:00, 471kB/s]\n",
      "data_config.json: 100%|██████████| 39.3k/39.3k [00:00<00:00, 22.4MB/s]\n",
      "pytorch_model.bin: 100%|██████████| 438M/438M [00:31<00:00, 13.9MB/s] \n",
      "sentence_bert_config.json: 100%|██████████| 53.0/53.0 [00:00<00:00, 173kB/s]\n",
      "special_tokens_map.json: 100%|██████████| 239/239 [00:00<00:00, 265kB/s]\n",
      "tokenizer.json: 100%|██████████| 466k/466k [00:00<00:00, 1.94MB/s]\n",
      "tokenizer_config.json: 100%|██████████| 363/363 [00:00<00:00, 1.60MB/s]\n",
      "train_script.py: 100%|██████████| 13.1k/13.1k [00:00<00:00, 37.2MB/s]\n",
      "vocab.txt: 100%|██████████| 232k/232k [00:00<00:00, 921kB/s]\n",
      "modules.json: 100%|██████████| 349/349 [00:00<00:00, 1.03MB/s]\n"
     ]
    },
    {
     "name": "stdout",
     "output_type": "stream",
     "text": [
      "contratar serviço melhor\n"
     ]
    },
    {
     "data": {
      "text/html": [
       "<div>\n",
       "<style scoped>\n",
       "    .dataframe tbody tr th:only-of-type {\n",
       "        vertical-align: middle;\n",
       "    }\n",
       "\n",
       "    .dataframe tbody tr th {\n",
       "        vertical-align: top;\n",
       "    }\n",
       "\n",
       "    .dataframe thead th {\n",
       "        text-align: right;\n",
       "    }\n",
       "</style>\n",
       "<table border=\"1\" class=\"dataframe\">\n",
       "  <thead>\n",
       "    <tr style=\"text-align: right;\">\n",
       "      <th></th>\n",
       "      <th>Question</th>\n",
       "      <th>Answer</th>\n",
       "    </tr>\n",
       "  </thead>\n",
       "  <tbody>\n",
       "    <tr>\n",
       "      <th>1</th>\n",
       "      <td>Como posso contratar os serviços da empresa?</td>\n",
       "      <td>Para contratar nossos serviços, você pode entr...</td>\n",
       "    </tr>\n",
       "    <tr>\n",
       "      <th>17</th>\n",
       "      <td>Como posso solicitar a mudança de endereço dos...</td>\n",
       "      <td>Entre em contato com nosso atendimento para so...</td>\n",
       "    </tr>\n",
       "    <tr>\n",
       "      <th>18</th>\n",
       "      <td>É possível fazer a rescisão dos serviços a qua...</td>\n",
       "      <td>Sim, você pode solicitar a rescisão dos serviç...</td>\n",
       "    </tr>\n",
       "    <tr>\n",
       "      <th>23</th>\n",
       "      <td>A empresa oferece serviço de fibra óptica?</td>\n",
       "      <td>Sim, nossa empresa oferece serviço de internet...</td>\n",
       "    </tr>\n",
       "    <tr>\n",
       "      <th>8</th>\n",
       "      <td>osso fazer a contratação de serviços adicionai...</td>\n",
       "      <td>Sim, você pode personalizar seu pacote de TV p...</td>\n",
       "    </tr>\n",
       "    <tr>\n",
       "      <th>3</th>\n",
       "      <td>A empresa oferece planos empresariais?</td>\n",
       "      <td>Sim, temos planos especiais para empresas, com...</td>\n",
       "    </tr>\n",
       "    <tr>\n",
       "      <th>24</th>\n",
       "      <td>Como posso agendar a visita de um técnico para...</td>\n",
       "      <td>Você pode agendar a visita de um técnico entra...</td>\n",
       "    </tr>\n",
       "    <tr>\n",
       "      <th>10</th>\n",
       "      <td>É possível fazer upgrade ou downgrade nos plan...</td>\n",
       "      <td>Sim, você pode fazer o upgrade ou downgrade do...</td>\n",
       "    </tr>\n",
       "    <tr>\n",
       "      <th>15</th>\n",
       "      <td>É possível contratar serviços adicionais, como...</td>\n",
       "      <td>Sim, oferecemos opções de streaming em parceri...</td>\n",
       "    </tr>\n",
       "    <tr>\n",
       "      <th>11</th>\n",
       "      <td>A empresa oferece descontos para pacotes combi...</td>\n",
       "      <td>Sim, oferecemos descontos especiais para clien...</td>\n",
       "    </tr>\n",
       "  </tbody>\n",
       "</table>\n",
       "</div>"
      ],
      "text/plain": [
       "                                             Question  \\\n",
       "1        Como posso contratar os serviços da empresa?   \n",
       "17  Como posso solicitar a mudança de endereço dos...   \n",
       "18  É possível fazer a rescisão dos serviços a qua...   \n",
       "23         A empresa oferece serviço de fibra óptica?   \n",
       "8   osso fazer a contratação de serviços adicionai...   \n",
       "3              A empresa oferece planos empresariais?   \n",
       "24  Como posso agendar a visita de um técnico para...   \n",
       "10  É possível fazer upgrade ou downgrade nos plan...   \n",
       "15  É possível contratar serviços adicionais, como...   \n",
       "11  A empresa oferece descontos para pacotes combi...   \n",
       "\n",
       "                                               Answer  \n",
       "1   Para contratar nossos serviços, você pode entr...  \n",
       "17  Entre em contato com nosso atendimento para so...  \n",
       "18  Sim, você pode solicitar a rescisão dos serviç...  \n",
       "23  Sim, nossa empresa oferece serviço de internet...  \n",
       "8   Sim, você pode personalizar seu pacote de TV p...  \n",
       "3   Sim, temos planos especiais para empresas, com...  \n",
       "24  Você pode agendar a visita de um técnico entra...  \n",
       "10  Sim, você pode fazer o upgrade ou downgrade do...  \n",
       "15  Sim, oferecemos opções de streaming em parceri...  \n",
       "11  Sim, oferecemos descontos especiais para clien...  "
      ]
     },
     "execution_count": 9,
     "metadata": {},
     "output_type": "execute_result"
    }
   ],
   "source": [
    "model = SentenceTransformer(\"all-mpnet-base-v2\")\n",
    "\n",
    "print(message)\n",
    "df.iloc[get_greatest_similarities(model, df, message)].head(10)"
   ]
  },
  {
   "cell_type": "markdown",
   "metadata": {},
   "source": [
    "#### 2.1.2 all-MiniLM-L6-v2 model"
   ]
  },
  {
   "cell_type": "code",
   "execution_count": 10,
   "metadata": {},
   "outputs": [
    {
     "name": "stderr",
     "output_type": "stream",
     "text": [
      ".gitattributes: 100%|██████████| 1.18k/1.18k [00:00<00:00, 4.45MB/s]\n",
      "1_Pooling/config.json: 100%|██████████| 190/190 [00:00<00:00, 1.03MB/s]\n",
      "README.md: 100%|██████████| 10.7k/10.7k [00:00<00:00, 21.0MB/s]\n",
      "config.json: 100%|██████████| 612/612 [00:00<00:00, 1.63MB/s]\n",
      "config_sentence_transformers.json: 100%|██████████| 116/116 [00:00<00:00, 367kB/s]\n",
      "data_config.json: 100%|██████████| 39.3k/39.3k [00:00<00:00, 28.3MB/s]\n",
      "pytorch_model.bin: 100%|██████████| 90.9M/90.9M [00:06<00:00, 13.9MB/s]\n",
      "sentence_bert_config.json: 100%|██████████| 53.0/53.0 [00:00<00:00, 114kB/s]\n",
      "special_tokens_map.json: 100%|██████████| 112/112 [00:00<00:00, 435kB/s]\n",
      "tokenizer.json: 100%|██████████| 466k/466k [00:00<00:00, 1.97MB/s]\n",
      "tokenizer_config.json: 100%|██████████| 350/350 [00:00<00:00, 1.80MB/s]\n",
      "train_script.py: 100%|██████████| 13.2k/13.2k [00:00<00:00, 49.8MB/s]\n",
      "vocab.txt: 100%|██████████| 232k/232k [00:00<00:00, 1.04MB/s]\n",
      "modules.json: 100%|██████████| 349/349 [00:00<00:00, 160kB/s]\n"
     ]
    },
    {
     "name": "stdout",
     "output_type": "stream",
     "text": [
      "contratar serviço melhor\n"
     ]
    },
    {
     "data": {
      "text/html": [
       "<div>\n",
       "<style scoped>\n",
       "    .dataframe tbody tr th:only-of-type {\n",
       "        vertical-align: middle;\n",
       "    }\n",
       "\n",
       "    .dataframe tbody tr th {\n",
       "        vertical-align: top;\n",
       "    }\n",
       "\n",
       "    .dataframe thead th {\n",
       "        text-align: right;\n",
       "    }\n",
       "</style>\n",
       "<table border=\"1\" class=\"dataframe\">\n",
       "  <thead>\n",
       "    <tr style=\"text-align: right;\">\n",
       "      <th></th>\n",
       "      <th>Question</th>\n",
       "      <th>Answer</th>\n",
       "    </tr>\n",
       "  </thead>\n",
       "  <tbody>\n",
       "    <tr>\n",
       "      <th>17</th>\n",
       "      <td>Como posso solicitar a mudança de endereço dos...</td>\n",
       "      <td>Entre em contato com nosso atendimento para so...</td>\n",
       "    </tr>\n",
       "    <tr>\n",
       "      <th>1</th>\n",
       "      <td>Como posso contratar os serviços da empresa?</td>\n",
       "      <td>Para contratar nossos serviços, você pode entr...</td>\n",
       "    </tr>\n",
       "    <tr>\n",
       "      <th>18</th>\n",
       "      <td>É possível fazer a rescisão dos serviços a qua...</td>\n",
       "      <td>Sim, você pode solicitar a rescisão dos serviç...</td>\n",
       "    </tr>\n",
       "    <tr>\n",
       "      <th>8</th>\n",
       "      <td>osso fazer a contratação de serviços adicionai...</td>\n",
       "      <td>Sim, você pode personalizar seu pacote de TV p...</td>\n",
       "    </tr>\n",
       "    <tr>\n",
       "      <th>23</th>\n",
       "      <td>A empresa oferece serviço de fibra óptica?</td>\n",
       "      <td>Sim, nossa empresa oferece serviço de internet...</td>\n",
       "    </tr>\n",
       "    <tr>\n",
       "      <th>15</th>\n",
       "      <td>É possível contratar serviços adicionais, como...</td>\n",
       "      <td>Sim, oferecemos opções de streaming em parceri...</td>\n",
       "    </tr>\n",
       "    <tr>\n",
       "      <th>10</th>\n",
       "      <td>É possível fazer upgrade ou downgrade nos plan...</td>\n",
       "      <td>Sim, você pode fazer o upgrade ou downgrade do...</td>\n",
       "    </tr>\n",
       "    <tr>\n",
       "      <th>24</th>\n",
       "      <td>Como posso agendar a visita de um técnico para...</td>\n",
       "      <td>Você pode agendar a visita de um técnico entra...</td>\n",
       "    </tr>\n",
       "    <tr>\n",
       "      <th>7</th>\n",
       "      <td>A empresa oferece suporte técnico?</td>\n",
       "      <td>Sim, nossa empresa oferece suporte técnico esp...</td>\n",
       "    </tr>\n",
       "    <tr>\n",
       "      <th>16</th>\n",
       "      <td>A empresa oferece atendimento em outros idioma...</td>\n",
       "      <td>No momento, nosso atendimento é realizado apen...</td>\n",
       "    </tr>\n",
       "  </tbody>\n",
       "</table>\n",
       "</div>"
      ],
      "text/plain": [
       "                                             Question  \\\n",
       "17  Como posso solicitar a mudança de endereço dos...   \n",
       "1        Como posso contratar os serviços da empresa?   \n",
       "18  É possível fazer a rescisão dos serviços a qua...   \n",
       "8   osso fazer a contratação de serviços adicionai...   \n",
       "23         A empresa oferece serviço de fibra óptica?   \n",
       "15  É possível contratar serviços adicionais, como...   \n",
       "10  É possível fazer upgrade ou downgrade nos plan...   \n",
       "24  Como posso agendar a visita de um técnico para...   \n",
       "7                  A empresa oferece suporte técnico?   \n",
       "16  A empresa oferece atendimento em outros idioma...   \n",
       "\n",
       "                                               Answer  \n",
       "17  Entre em contato com nosso atendimento para so...  \n",
       "1   Para contratar nossos serviços, você pode entr...  \n",
       "18  Sim, você pode solicitar a rescisão dos serviç...  \n",
       "8   Sim, você pode personalizar seu pacote de TV p...  \n",
       "23  Sim, nossa empresa oferece serviço de internet...  \n",
       "15  Sim, oferecemos opções de streaming em parceri...  \n",
       "10  Sim, você pode fazer o upgrade ou downgrade do...  \n",
       "24  Você pode agendar a visita de um técnico entra...  \n",
       "7   Sim, nossa empresa oferece suporte técnico esp...  \n",
       "16  No momento, nosso atendimento é realizado apen...  "
      ]
     },
     "execution_count": 10,
     "metadata": {},
     "output_type": "execute_result"
    }
   ],
   "source": [
    "model = SentenceTransformer(\"all-MiniLM-L6-v2\")\n",
    "\n",
    "print(message)\n",
    "df.iloc[get_greatest_similarities(model, df, message)].head(10)"
   ]
  },
  {
   "cell_type": "markdown",
   "metadata": {},
   "source": [
    "#### 2.1.3 msmarco-distilbert-base-v4"
   ]
  },
  {
   "cell_type": "code",
   "execution_count": 11,
   "metadata": {},
   "outputs": [
    {
     "name": "stderr",
     "output_type": "stream",
     "text": [
      ".gitattributes: 100%|██████████| 690/690 [00:00<00:00, 2.91MB/s]\n",
      "1_Pooling/config.json: 100%|██████████| 190/190 [00:00<00:00, 538kB/s]\n",
      "README.md: 100%|██████████| 3.75k/3.75k [00:00<00:00, 20.8MB/s]\n",
      "config.json: 100%|██████████| 545/545 [00:00<00:00, 2.03MB/s]\n",
      "config_sentence_transformers.json: 100%|██████████| 122/122 [00:00<00:00, 464kB/s]\n",
      "pytorch_model.bin: 100%|██████████| 265M/265M [00:19<00:00, 13.3MB/s] \n",
      "sentence_bert_config.json: 100%|██████████| 53.0/53.0 [00:00<00:00, 189kB/s]\n",
      "special_tokens_map.json: 100%|██████████| 112/112 [00:00<00:00, 492kB/s]\n",
      "tokenizer.json: 100%|██████████| 466k/466k [00:00<00:00, 2.08MB/s]\n",
      "tokenizer_config.json: 100%|██████████| 319/319 [00:00<00:00, 1.48MB/s]\n",
      "vocab.txt: 100%|██████████| 232k/232k [00:00<00:00, 18.6MB/s]\n",
      "modules.json: 100%|██████████| 229/229 [00:00<00:00, 319kB/s]\n"
     ]
    },
    {
     "name": "stdout",
     "output_type": "stream",
     "text": [
      "contratar serviço melhor\n"
     ]
    },
    {
     "data": {
      "text/html": [
       "<div>\n",
       "<style scoped>\n",
       "    .dataframe tbody tr th:only-of-type {\n",
       "        vertical-align: middle;\n",
       "    }\n",
       "\n",
       "    .dataframe tbody tr th {\n",
       "        vertical-align: top;\n",
       "    }\n",
       "\n",
       "    .dataframe thead th {\n",
       "        text-align: right;\n",
       "    }\n",
       "</style>\n",
       "<table border=\"1\" class=\"dataframe\">\n",
       "  <thead>\n",
       "    <tr style=\"text-align: right;\">\n",
       "      <th></th>\n",
       "      <th>Question</th>\n",
       "      <th>Answer</th>\n",
       "    </tr>\n",
       "  </thead>\n",
       "  <tbody>\n",
       "    <tr>\n",
       "      <th>1</th>\n",
       "      <td>Como posso contratar os serviços da empresa?</td>\n",
       "      <td>Para contratar nossos serviços, você pode entr...</td>\n",
       "    </tr>\n",
       "    <tr>\n",
       "      <th>17</th>\n",
       "      <td>Como posso solicitar a mudança de endereço dos...</td>\n",
       "      <td>Entre em contato com nosso atendimento para so...</td>\n",
       "    </tr>\n",
       "    <tr>\n",
       "      <th>15</th>\n",
       "      <td>É possível contratar serviços adicionais, como...</td>\n",
       "      <td>Sim, oferecemos opções de streaming em parceri...</td>\n",
       "    </tr>\n",
       "    <tr>\n",
       "      <th>21</th>\n",
       "      <td>A empresa disponibiliza serviços de telefonia ...</td>\n",
       "      <td>Sim, oferecemos opções para ligações internaci...</td>\n",
       "    </tr>\n",
       "    <tr>\n",
       "      <th>18</th>\n",
       "      <td>É possível fazer a rescisão dos serviços a qua...</td>\n",
       "      <td>Sim, você pode solicitar a rescisão dos serviç...</td>\n",
       "    </tr>\n",
       "    <tr>\n",
       "      <th>26</th>\n",
       "      <td>A empresa oferece serviços de telefonia VoIP?</td>\n",
       "      <td>Sim, oferecemos serviços de telefonia VoIP par...</td>\n",
       "    </tr>\n",
       "    <tr>\n",
       "      <th>8</th>\n",
       "      <td>osso fazer a contratação de serviços adicionai...</td>\n",
       "      <td>Sim, você pode personalizar seu pacote de TV p...</td>\n",
       "    </tr>\n",
       "    <tr>\n",
       "      <th>23</th>\n",
       "      <td>A empresa oferece serviço de fibra óptica?</td>\n",
       "      <td>Sim, nossa empresa oferece serviço de internet...</td>\n",
       "    </tr>\n",
       "    <tr>\n",
       "      <th>0</th>\n",
       "      <td>Quais serviços a empresa de telecomunicações o...</td>\n",
       "      <td>Nossa empresa oferece serviços de telefonia fi...</td>\n",
       "    </tr>\n",
       "    <tr>\n",
       "      <th>24</th>\n",
       "      <td>Como posso agendar a visita de um técnico para...</td>\n",
       "      <td>Você pode agendar a visita de um técnico entra...</td>\n",
       "    </tr>\n",
       "  </tbody>\n",
       "</table>\n",
       "</div>"
      ],
      "text/plain": [
       "                                             Question  \\\n",
       "1        Como posso contratar os serviços da empresa?   \n",
       "17  Como posso solicitar a mudança de endereço dos...   \n",
       "15  É possível contratar serviços adicionais, como...   \n",
       "21  A empresa disponibiliza serviços de telefonia ...   \n",
       "18  É possível fazer a rescisão dos serviços a qua...   \n",
       "26      A empresa oferece serviços de telefonia VoIP?   \n",
       "8   osso fazer a contratação de serviços adicionai...   \n",
       "23         A empresa oferece serviço de fibra óptica?   \n",
       "0   Quais serviços a empresa de telecomunicações o...   \n",
       "24  Como posso agendar a visita de um técnico para...   \n",
       "\n",
       "                                               Answer  \n",
       "1   Para contratar nossos serviços, você pode entr...  \n",
       "17  Entre em contato com nosso atendimento para so...  \n",
       "15  Sim, oferecemos opções de streaming em parceri...  \n",
       "21  Sim, oferecemos opções para ligações internaci...  \n",
       "18  Sim, você pode solicitar a rescisão dos serviç...  \n",
       "26  Sim, oferecemos serviços de telefonia VoIP par...  \n",
       "8   Sim, você pode personalizar seu pacote de TV p...  \n",
       "23  Sim, nossa empresa oferece serviço de internet...  \n",
       "0   Nossa empresa oferece serviços de telefonia fi...  \n",
       "24  Você pode agendar a visita de um técnico entra...  "
      ]
     },
     "execution_count": 11,
     "metadata": {},
     "output_type": "execute_result"
    }
   ],
   "source": [
    "model = SentenceTransformer(\"msmarco-distilbert-base-v4\")\n",
    "\n",
    "print(message)\n",
    "df.iloc[get_greatest_similarities(model, df, message)].head(10)"
   ]
  },
  {
   "cell_type": "markdown",
   "metadata": {},
   "source": [
    "#### 2.1.4 bert-large-portuguese-cased (Finetuned model)"
   ]
  },
  {
   "cell_type": "code",
   "execution_count": 18,
   "metadata": {},
   "outputs": [
    {
     "name": "stderr",
     "output_type": "stream",
     "text": [
      "No sentence-transformers model found with name ../models/bert-large-portuguese-cased. Creating a new one with MEAN pooling.\n"
     ]
    },
    {
     "name": "stdout",
     "output_type": "stream",
     "text": [
      "contratar serviço melhor\n"
     ]
    },
    {
     "data": {
      "text/html": [
       "<div>\n",
       "<style scoped>\n",
       "    .dataframe tbody tr th:only-of-type {\n",
       "        vertical-align: middle;\n",
       "    }\n",
       "\n",
       "    .dataframe tbody tr th {\n",
       "        vertical-align: top;\n",
       "    }\n",
       "\n",
       "    .dataframe thead th {\n",
       "        text-align: right;\n",
       "    }\n",
       "</style>\n",
       "<table border=\"1\" class=\"dataframe\">\n",
       "  <thead>\n",
       "    <tr style=\"text-align: right;\">\n",
       "      <th></th>\n",
       "      <th>Question</th>\n",
       "      <th>Answer</th>\n",
       "    </tr>\n",
       "  </thead>\n",
       "  <tbody>\n",
       "    <tr>\n",
       "      <th>1</th>\n",
       "      <td>Como posso contratar os serviços da empresa?</td>\n",
       "      <td>Para contratar nossos serviços, você pode entr...</td>\n",
       "    </tr>\n",
       "    <tr>\n",
       "      <th>7</th>\n",
       "      <td>A empresa oferece suporte técnico?</td>\n",
       "      <td>Sim, nossa empresa oferece suporte técnico esp...</td>\n",
       "    </tr>\n",
       "    <tr>\n",
       "      <th>21</th>\n",
       "      <td>A empresa disponibiliza serviços de telefonia ...</td>\n",
       "      <td>Sim, oferecemos opções para ligações internaci...</td>\n",
       "    </tr>\n",
       "    <tr>\n",
       "      <th>11</th>\n",
       "      <td>A empresa oferece descontos para pacotes combi...</td>\n",
       "      <td>Sim, oferecemos descontos especiais para clien...</td>\n",
       "    </tr>\n",
       "    <tr>\n",
       "      <th>0</th>\n",
       "      <td>Quais serviços a empresa de telecomunicações o...</td>\n",
       "      <td>Nossa empresa oferece serviços de telefonia fi...</td>\n",
       "    </tr>\n",
       "    <tr>\n",
       "      <th>3</th>\n",
       "      <td>A empresa oferece planos empresariais?</td>\n",
       "      <td>Sim, temos planos especiais para empresas, com...</td>\n",
       "    </tr>\n",
       "    <tr>\n",
       "      <th>8</th>\n",
       "      <td>osso fazer a contratação de serviços adicionai...</td>\n",
       "      <td>Sim, você pode personalizar seu pacote de TV p...</td>\n",
       "    </tr>\n",
       "    <tr>\n",
       "      <th>23</th>\n",
       "      <td>A empresa oferece serviço de fibra óptica?</td>\n",
       "      <td>Sim, nossa empresa oferece serviço de internet...</td>\n",
       "    </tr>\n",
       "    <tr>\n",
       "      <th>29</th>\n",
       "      <td>A empresa disponibiliza pacotes de internet co...</td>\n",
       "      <td>Sim, temos opções de planos com tráfego ilimit...</td>\n",
       "    </tr>\n",
       "    <tr>\n",
       "      <th>17</th>\n",
       "      <td>Como posso solicitar a mudança de endereço dos...</td>\n",
       "      <td>Entre em contato com nosso atendimento para so...</td>\n",
       "    </tr>\n",
       "  </tbody>\n",
       "</table>\n",
       "</div>"
      ],
      "text/plain": [
       "                                             Question  \\\n",
       "1        Como posso contratar os serviços da empresa?   \n",
       "7                  A empresa oferece suporte técnico?   \n",
       "21  A empresa disponibiliza serviços de telefonia ...   \n",
       "11  A empresa oferece descontos para pacotes combi...   \n",
       "0   Quais serviços a empresa de telecomunicações o...   \n",
       "3              A empresa oferece planos empresariais?   \n",
       "8   osso fazer a contratação de serviços adicionai...   \n",
       "23         A empresa oferece serviço de fibra óptica?   \n",
       "29  A empresa disponibiliza pacotes de internet co...   \n",
       "17  Como posso solicitar a mudança de endereço dos...   \n",
       "\n",
       "                                               Answer  \n",
       "1   Para contratar nossos serviços, você pode entr...  \n",
       "7   Sim, nossa empresa oferece suporte técnico esp...  \n",
       "21  Sim, oferecemos opções para ligações internaci...  \n",
       "11  Sim, oferecemos descontos especiais para clien...  \n",
       "0   Nossa empresa oferece serviços de telefonia fi...  \n",
       "3   Sim, temos planos especiais para empresas, com...  \n",
       "8   Sim, você pode personalizar seu pacote de TV p...  \n",
       "23  Sim, nossa empresa oferece serviço de internet...  \n",
       "29  Sim, temos opções de planos com tráfego ilimit...  \n",
       "17  Entre em contato com nosso atendimento para so...  "
      ]
     },
     "execution_count": 18,
     "metadata": {},
     "output_type": "execute_result"
    }
   ],
   "source": [
    "model = SentenceTransformer(\"../models/bert-large-portuguese-cased\")\n",
    "\n",
    "print(message)\n",
    "df.iloc[get_greatest_similarities(model, df, message)].head(10)"
   ]
  },
  {
   "cell_type": "markdown",
   "metadata": {},
   "source": [
    "## 3 Preparing to Deploy"
   ]
  },
  {
   "cell_type": "code",
   "execution_count": 19,
   "metadata": {},
   "outputs": [],
   "source": [
    "from sentence_transformers import models\n",
    "\n",
    "word_embedding_model = models.Transformer(\"../models/bert-large-portuguese-cased\")\n",
    "pooling_model = models.Pooling(word_embedding_model.get_word_embedding_dimension())\n",
    "\n",
    "embedding_model = SentenceTransformer(modules=[model, pooling_model])"
   ]
  },
  {
   "cell_type": "code",
   "execution_count": 20,
   "metadata": {},
   "outputs": [],
   "source": [
    "nlp_model = spacy.load(\"pt_core_news_lg\")"
   ]
  },
  {
   "cell_type": "code",
   "execution_count": 21,
   "metadata": {},
   "outputs": [
    {
     "data": {
      "text/html": [
       "<div>\n",
       "<style scoped>\n",
       "    .dataframe tbody tr th:only-of-type {\n",
       "        vertical-align: middle;\n",
       "    }\n",
       "\n",
       "    .dataframe tbody tr th {\n",
       "        vertical-align: top;\n",
       "    }\n",
       "\n",
       "    .dataframe thead th {\n",
       "        text-align: right;\n",
       "    }\n",
       "</style>\n",
       "<table border=\"1\" class=\"dataframe\">\n",
       "  <thead>\n",
       "    <tr style=\"text-align: right;\">\n",
       "      <th></th>\n",
       "      <th>Question</th>\n",
       "      <th>Answer</th>\n",
       "    </tr>\n",
       "  </thead>\n",
       "  <tbody>\n",
       "    <tr>\n",
       "      <th>0</th>\n",
       "      <td>Quais serviços a empresa de telecomunicações o...</td>\n",
       "      <td>Nossa empresa oferece serviços de telefonia fi...</td>\n",
       "    </tr>\n",
       "    <tr>\n",
       "      <th>1</th>\n",
       "      <td>Como posso contratar os serviços da empresa?</td>\n",
       "      <td>Para contratar nossos serviços, você pode entr...</td>\n",
       "    </tr>\n",
       "    <tr>\n",
       "      <th>2</th>\n",
       "      <td>Quais são os planos disponíveis para a telefon...</td>\n",
       "      <td>Temos diversos planos com diferentes franquias...</td>\n",
       "    </tr>\n",
       "  </tbody>\n",
       "</table>\n",
       "</div>"
      ],
      "text/plain": [
       "                                            Question  \\\n",
       "0  Quais serviços a empresa de telecomunicações o...   \n",
       "1       Como posso contratar os serviços da empresa?   \n",
       "2  Quais são os planos disponíveis para a telefon...   \n",
       "\n",
       "                                              Answer  \n",
       "0  Nossa empresa oferece serviços de telefonia fi...  \n",
       "1  Para contratar nossos serviços, você pode entr...  \n",
       "2  Temos diversos planos com diferentes franquias...  "
      ]
     },
     "execution_count": 21,
     "metadata": {},
     "output_type": "execute_result"
    }
   ],
   "source": [
    "df = pd.read_csv(\"../data/faqs/faq_example.csv\", sep=\";\")\n",
    "df.head(3)"
   ]
  },
  {
   "cell_type": "markdown",
   "metadata": {},
   "source": [
    "### 3.1 Preparing Data"
   ]
  },
  {
   "cell_type": "markdown",
   "metadata": {},
   "source": [
    "#### 3.1.1 Creating Embeddings for each question and exporting as CSV file"
   ]
  },
  {
   "cell_type": "code",
   "execution_count": 23,
   "metadata": {},
   "outputs": [],
   "source": [
    "def get_sentence_embeddings(model, series):\n",
    "    \"\"\"This function removes all 'stop words' for each sentence in a pandas.Series\n",
    "    and then creates a embed for the sentence without the stop words.\"\"\"\n",
    "\n",
    "    for i, text in enumerate(series):\n",
    "        embed = model.encode(get_clean_text(text))\n",
    "        \n",
    "        if i == 0:\n",
    "            text_embeddings = pd.DataFrame({f\"{i}\": embed})\n",
    "        else:\n",
    "            text_embeddings[f\"{i}\"] = embed\n",
    "\n",
    "    return text_embeddings"
   ]
  },
  {
   "cell_type": "code",
   "execution_count": 24,
   "metadata": {},
   "outputs": [
    {
     "data": {
      "text/html": [
       "<div>\n",
       "<style scoped>\n",
       "    .dataframe tbody tr th:only-of-type {\n",
       "        vertical-align: middle;\n",
       "    }\n",
       "\n",
       "    .dataframe tbody tr th {\n",
       "        vertical-align: top;\n",
       "    }\n",
       "\n",
       "    .dataframe thead th {\n",
       "        text-align: right;\n",
       "    }\n",
       "</style>\n",
       "<table border=\"1\" class=\"dataframe\">\n",
       "  <thead>\n",
       "    <tr style=\"text-align: right;\">\n",
       "      <th></th>\n",
       "      <th>0</th>\n",
       "      <th>1</th>\n",
       "      <th>2</th>\n",
       "      <th>3</th>\n",
       "      <th>4</th>\n",
       "      <th>5</th>\n",
       "      <th>6</th>\n",
       "      <th>7</th>\n",
       "      <th>8</th>\n",
       "      <th>9</th>\n",
       "      <th>...</th>\n",
       "      <th>20</th>\n",
       "      <th>21</th>\n",
       "      <th>22</th>\n",
       "      <th>23</th>\n",
       "      <th>24</th>\n",
       "      <th>25</th>\n",
       "      <th>26</th>\n",
       "      <th>27</th>\n",
       "      <th>28</th>\n",
       "      <th>29</th>\n",
       "    </tr>\n",
       "  </thead>\n",
       "  <tbody>\n",
       "    <tr>\n",
       "      <th>0</th>\n",
       "      <td>-0.188625</td>\n",
       "      <td>0.400795</td>\n",
       "      <td>0.411760</td>\n",
       "      <td>0.109736</td>\n",
       "      <td>0.009841</td>\n",
       "      <td>0.034626</td>\n",
       "      <td>0.166422</td>\n",
       "      <td>0.056301</td>\n",
       "      <td>0.097396</td>\n",
       "      <td>-0.092918</td>\n",
       "      <td>...</td>\n",
       "      <td>-0.413871</td>\n",
       "      <td>-0.321137</td>\n",
       "      <td>0.878566</td>\n",
       "      <td>-0.406816</td>\n",
       "      <td>-0.006660</td>\n",
       "      <td>0.082112</td>\n",
       "      <td>-0.196087</td>\n",
       "      <td>-0.239689</td>\n",
       "      <td>0.049381</td>\n",
       "      <td>-0.480112</td>\n",
       "    </tr>\n",
       "    <tr>\n",
       "      <th>1</th>\n",
       "      <td>0.669775</td>\n",
       "      <td>-0.513456</td>\n",
       "      <td>0.729793</td>\n",
       "      <td>0.126030</td>\n",
       "      <td>0.267571</td>\n",
       "      <td>0.481286</td>\n",
       "      <td>1.141500</td>\n",
       "      <td>0.142641</td>\n",
       "      <td>0.742800</td>\n",
       "      <td>0.549268</td>\n",
       "      <td>...</td>\n",
       "      <td>0.589085</td>\n",
       "      <td>0.127874</td>\n",
       "      <td>0.220500</td>\n",
       "      <td>0.422829</td>\n",
       "      <td>-0.126928</td>\n",
       "      <td>0.728831</td>\n",
       "      <td>0.353417</td>\n",
       "      <td>0.152385</td>\n",
       "      <td>-0.145057</td>\n",
       "      <td>0.394540</td>\n",
       "    </tr>\n",
       "    <tr>\n",
       "      <th>2</th>\n",
       "      <td>-0.381558</td>\n",
       "      <td>-0.054400</td>\n",
       "      <td>-0.294071</td>\n",
       "      <td>0.117846</td>\n",
       "      <td>-0.608610</td>\n",
       "      <td>-0.065049</td>\n",
       "      <td>-0.305379</td>\n",
       "      <td>0.236780</td>\n",
       "      <td>-0.003630</td>\n",
       "      <td>0.204660</td>\n",
       "      <td>...</td>\n",
       "      <td>0.205727</td>\n",
       "      <td>-0.050293</td>\n",
       "      <td>0.137386</td>\n",
       "      <td>-0.305943</td>\n",
       "      <td>-0.038120</td>\n",
       "      <td>-0.013327</td>\n",
       "      <td>-0.102131</td>\n",
       "      <td>-0.320342</td>\n",
       "      <td>0.274796</td>\n",
       "      <td>-0.026569</td>\n",
       "    </tr>\n",
       "    <tr>\n",
       "      <th>3</th>\n",
       "      <td>0.454017</td>\n",
       "      <td>0.232535</td>\n",
       "      <td>0.188409</td>\n",
       "      <td>-0.255085</td>\n",
       "      <td>0.524477</td>\n",
       "      <td>0.415265</td>\n",
       "      <td>-0.067255</td>\n",
       "      <td>0.152117</td>\n",
       "      <td>0.100764</td>\n",
       "      <td>0.834602</td>\n",
       "      <td>...</td>\n",
       "      <td>-0.138930</td>\n",
       "      <td>0.220053</td>\n",
       "      <td>0.151821</td>\n",
       "      <td>0.536146</td>\n",
       "      <td>0.055318</td>\n",
       "      <td>0.060070</td>\n",
       "      <td>0.320547</td>\n",
       "      <td>0.123528</td>\n",
       "      <td>-0.049228</td>\n",
       "      <td>0.277206</td>\n",
       "    </tr>\n",
       "    <tr>\n",
       "      <th>4</th>\n",
       "      <td>0.066648</td>\n",
       "      <td>-0.130414</td>\n",
       "      <td>0.453749</td>\n",
       "      <td>-0.097490</td>\n",
       "      <td>-0.049005</td>\n",
       "      <td>-0.478444</td>\n",
       "      <td>0.460946</td>\n",
       "      <td>0.129103</td>\n",
       "      <td>0.424206</td>\n",
       "      <td>-0.115655</td>\n",
       "      <td>...</td>\n",
       "      <td>0.023551</td>\n",
       "      <td>0.136368</td>\n",
       "      <td>0.457364</td>\n",
       "      <td>0.372164</td>\n",
       "      <td>0.002984</td>\n",
       "      <td>0.833865</td>\n",
       "      <td>0.270271</td>\n",
       "      <td>-0.148330</td>\n",
       "      <td>0.182577</td>\n",
       "      <td>0.618017</td>\n",
       "    </tr>\n",
       "  </tbody>\n",
       "</table>\n",
       "<p>5 rows × 30 columns</p>\n",
       "</div>"
      ],
      "text/plain": [
       "          0         1         2         3         4         5         6  \\\n",
       "0 -0.188625  0.400795  0.411760  0.109736  0.009841  0.034626  0.166422   \n",
       "1  0.669775 -0.513456  0.729793  0.126030  0.267571  0.481286  1.141500   \n",
       "2 -0.381558 -0.054400 -0.294071  0.117846 -0.608610 -0.065049 -0.305379   \n",
       "3  0.454017  0.232535  0.188409 -0.255085  0.524477  0.415265 -0.067255   \n",
       "4  0.066648 -0.130414  0.453749 -0.097490 -0.049005 -0.478444  0.460946   \n",
       "\n",
       "          7         8         9  ...        20        21        22        23  \\\n",
       "0  0.056301  0.097396 -0.092918  ... -0.413871 -0.321137  0.878566 -0.406816   \n",
       "1  0.142641  0.742800  0.549268  ...  0.589085  0.127874  0.220500  0.422829   \n",
       "2  0.236780 -0.003630  0.204660  ...  0.205727 -0.050293  0.137386 -0.305943   \n",
       "3  0.152117  0.100764  0.834602  ... -0.138930  0.220053  0.151821  0.536146   \n",
       "4  0.129103  0.424206 -0.115655  ...  0.023551  0.136368  0.457364  0.372164   \n",
       "\n",
       "         24        25        26        27        28        29  \n",
       "0 -0.006660  0.082112 -0.196087 -0.239689  0.049381 -0.480112  \n",
       "1 -0.126928  0.728831  0.353417  0.152385 -0.145057  0.394540  \n",
       "2 -0.038120 -0.013327 -0.102131 -0.320342  0.274796 -0.026569  \n",
       "3  0.055318  0.060070  0.320547  0.123528 -0.049228  0.277206  \n",
       "4  0.002984  0.833865  0.270271 -0.148330  0.182577  0.618017  \n",
       "\n",
       "[5 rows x 30 columns]"
      ]
     },
     "execution_count": 24,
     "metadata": {},
     "output_type": "execute_result"
    }
   ],
   "source": [
    "df_embedding = get_sentence_embeddings(embedding_model, df.Question)\n",
    "df_embedding.head()"
   ]
  },
  {
   "cell_type": "code",
   "execution_count": 25,
   "metadata": {},
   "outputs": [],
   "source": [
    "df_embedding.to_csv(path_or_buf=\"../data/embeddings/embeddings.csv\", sep=\";\", index=False)"
   ]
  },
  {
   "cell_type": "markdown",
   "metadata": {},
   "source": [
    "### 3.2 Exporting the model with the best performance"
   ]
  },
  {
   "cell_type": "markdown",
   "metadata": {},
   "source": [
    "#### 3.2.1 Embeddings model"
   ]
  },
  {
   "cell_type": "code",
   "execution_count": 26,
   "metadata": {},
   "outputs": [],
   "source": [
    "embedding_model.save('../models/embeddings_model_pt')"
   ]
  },
  {
   "cell_type": "markdown",
   "metadata": {},
   "source": [
    "#### 3.2.2 NLP Model"
   ]
  },
  {
   "cell_type": "code",
   "execution_count": 27,
   "metadata": {},
   "outputs": [],
   "source": [
    "nlp_model.to_disk('../models/nlp_model')"
   ]
  }
 ],
 "metadata": {
  "kernelspec": {
   "display_name": "techlab",
   "language": "python",
   "name": "python3"
  },
  "language_info": {
   "codemirror_mode": {
    "name": "ipython",
    "version": 3
   },
   "file_extension": ".py",
   "mimetype": "text/x-python",
   "name": "python",
   "nbconvert_exporter": "python",
   "pygments_lexer": "ipython3",
   "version": "3.10.12"
  },
  "orig_nbformat": 4
 },
 "nbformat": 4,
 "nbformat_minor": 2
}
